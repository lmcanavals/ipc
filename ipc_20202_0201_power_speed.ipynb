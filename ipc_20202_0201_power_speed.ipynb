{
  "nbformat": 4,
  "nbformat_minor": 0,
  "metadata": {
    "colab": {
      "name": "ipc 20202 0201 power speed.ipynb",
      "provenance": [],
      "collapsed_sections": [],
      "authorship_tag": "ABX9TyO9zuqD1FcoHwjvsVoiQI2k",
      "include_colab_link": true
    },
    "kernelspec": {
      "name": "python3",
      "display_name": "Python 3"
    }
  },
  "cells": [
    {
      "cell_type": "markdown",
      "metadata": {
        "id": "view-in-github",
        "colab_type": "text"
      },
      "source": [
        "<a href=\"https://colab.research.google.com/github/pcsilcan/ipc/blob/20202/ipc_20202_0201_power_speed.ipynb\" target=\"_parent\"><img src=\"https://colab.research.google.com/assets/colab-badge.svg\" alt=\"Open In Colab\"/></a>"
      ]
    },
    {
      "cell_type": "code",
      "metadata": {
        "id": "a49cVk1XjdZi",
        "colab_type": "code",
        "colab": {}
      },
      "source": [
        "def mypow(a, n):\n",
        "    if n == 0: return 1\n",
        "    if n == 1: return a\n",
        "    t = mypow(a, n//2)\n",
        "    return t * t * mypow(a, n % 2)\n",
        "\n"
      ],
      "execution_count": null,
      "outputs": []
    },
    {
      "cell_type": "code",
      "metadata": {
        "id": "-DVLU6X1j1gL",
        "colab_type": "code",
        "colab": {
          "base_uri": "https://localhost:8080/",
          "height": 70
        },
        "outputId": "faa05fa4-a664-4ab1-bef6-52950ec141e5"
      },
      "source": [
        "%timeit mypow(3, 10)"
      ],
      "execution_count": null,
      "outputs": [
        {
          "output_type": "stream",
          "text": [
            "The slowest run took 4.21 times longer than the fastest. This could mean that an intermediate result is being cached.\n",
            "1000000 loops, best of 3: 1.02 µs per loop\n"
          ],
          "name": "stdout"
        }
      ]
    },
    {
      "cell_type": "code",
      "metadata": {
        "id": "Ty_BWE-Hj9Gz",
        "colab_type": "code",
        "colab": {
          "base_uri": "https://localhost:8080/",
          "height": 70
        },
        "outputId": "a4f5206b-8d9c-4224-a1e1-d5fb350c856c"
      },
      "source": [
        "%timeit mypow(3, 100)"
      ],
      "execution_count": null,
      "outputs": [
        {
          "output_type": "stream",
          "text": [
            "The slowest run took 4.01 times longer than the fastest. This could mean that an intermediate result is being cached.\n",
            "100000 loops, best of 3: 1.97 µs per loop\n"
          ],
          "name": "stdout"
        }
      ]
    },
    {
      "cell_type": "code",
      "metadata": {
        "id": "0hJRY822kHtV",
        "colab_type": "code",
        "colab": {
          "base_uri": "https://localhost:8080/",
          "height": 34
        },
        "outputId": "194b8c82-dbaa-4a0b-b54d-dc3b5058dade"
      },
      "source": [
        "%timeit 3**10"
      ],
      "execution_count": null,
      "outputs": [
        {
          "output_type": "stream",
          "text": [
            "100000000 loops, best of 3: 12.2 ns per loop\n"
          ],
          "name": "stdout"
        }
      ]
    },
    {
      "cell_type": "code",
      "metadata": {
        "id": "dDAcf93ykMou",
        "colab_type": "code",
        "colab": {
          "base_uri": "https://localhost:8080/",
          "height": 70
        },
        "outputId": "c82aa4eb-88ba-418e-a2e2-21ec82b7228a"
      },
      "source": [
        "%timeit 3**100"
      ],
      "execution_count": null,
      "outputs": [
        {
          "output_type": "stream",
          "text": [
            "The slowest run took 7.37 times longer than the fastest. This could mean that an intermediate result is being cached.\n",
            "1000000 loops, best of 3: 348 ns per loop\n"
          ],
          "name": "stdout"
        }
      ]
    },
    {
      "cell_type": "code",
      "metadata": {
        "id": "z77oEQ18kQjJ",
        "colab_type": "code",
        "colab": {}
      },
      "source": [
        "def mtpow(a, n):\n",
        "    ret = 1\n",
        "    while n:\n",
        "        if n%2 == 1:\n",
        "            ret *= a\n",
        "        a *= a\n",
        "        n //= 2\n",
        "\n",
        "    return ret"
      ],
      "execution_count": null,
      "outputs": []
    },
    {
      "cell_type": "code",
      "metadata": {
        "id": "lmf5rXBnlJaq",
        "colab_type": "code",
        "colab": {
          "base_uri": "https://localhost:8080/",
          "height": 70
        },
        "outputId": "c22ee10f-c4c1-4603-a7d7-ed20c6dfb48e"
      },
      "source": [
        "%timeit mtpow(3, 100)"
      ],
      "execution_count": null,
      "outputs": [
        {
          "output_type": "stream",
          "text": [
            "The slowest run took 4.88 times longer than the fastest. This could mean that an intermediate result is being cached.\n",
            "1000000 loops, best of 3: 1.02 µs per loop\n"
          ],
          "name": "stdout"
        }
      ]
    },
    {
      "cell_type": "code",
      "metadata": {
        "id": "_aVcefW5lMwK",
        "colab_type": "code",
        "colab": {
          "base_uri": "https://localhost:8080/",
          "height": 34
        },
        "outputId": "78c4219f-bd41-46fc-9330-08ade5a997b1"
      },
      "source": [
        "%%writefile holamundo.cpp\n",
        "#include <iostream>\n",
        "\n",
        "using namespace std;\n",
        "\n",
        "int main() {\n",
        "    cout << \" Ho;la mundooo\";\n",
        "\n",
        "    return 0;\n",
        "}"
      ],
      "execution_count": null,
      "outputs": [
        {
          "output_type": "stream",
          "text": [
            "Writing holamundo.cpp\n"
          ],
          "name": "stdout"
        }
      ]
    },
    {
      "cell_type": "code",
      "metadata": {
        "id": "70u9Gq5NpjcH",
        "colab_type": "code",
        "colab": {
          "base_uri": "https://localhost:8080/",
          "height": 34
        },
        "outputId": "cdb5e3e8-e2b3-4b91-f534-84b62df29dec"
      },
      "source": [
        "%%writefile holamundo2.cpp\n",
        "#include <bits/stdc++.h>\n",
        "\n",
        "using namespace std;\n",
        "\n",
        "int main() {\n",
        "    cout << \" Ho;la mundooo\";\n",
        "\n",
        "    return 0;\n",
        "}"
      ],
      "execution_count": null,
      "outputs": [
        {
          "output_type": "stream",
          "text": [
            "Writing holamundo2.cpp\n"
          ],
          "name": "stdout"
        }
      ]
    },
    {
      "cell_type": "code",
      "metadata": {
        "id": "tH_SvMHhpbD_",
        "colab_type": "code",
        "colab": {
          "base_uri": "https://localhost:8080/",
          "height": 134
        },
        "outputId": "265e9dec-1d21-437a-9d37-c35721199344"
      },
      "source": [
        "%%script bash\n",
        "g++ holamundo.cpp -o 1\n",
        "g++ holamundo2.cpp -o 2\n",
        "\n",
        "ls -l"
      ],
      "execution_count": null,
      "outputs": [
        {
          "output_type": "stream",
          "text": [
            "total 48\n",
            "-rwxr-xr-x 1 root root  8776 Sep  2 02:30 1\n",
            "-rwxr-xr-x 1 root root 11400 Sep  2 02:30 2\n",
            "-rwxr-xr-x 1 root root  8776 Sep  2 02:29 a.out\n",
            "-rw-r--r-- 1 root root   107 Sep  2 02:30 holamundo2.cpp\n",
            "-rw-r--r-- 1 root root   102 Sep  2 02:29 holamundo.cpp\n",
            "drwxr-xr-x 1 root root  4096 Aug 27 16:39 sample_data\n"
          ],
          "name": "stdout"
        }
      ]
    },
    {
      "cell_type": "code",
      "metadata": {
        "id": "5NLfSs6Cpg-C",
        "colab_type": "code",
        "colab": {}
      },
      "source": [
        ""
      ],
      "execution_count": null,
      "outputs": []
    }
  ]
}