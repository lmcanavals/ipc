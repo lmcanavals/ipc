{
  "nbformat": 4,
  "nbformat_minor": 0,
  "metadata": {
    "colab": {
      "name": "ipc 20202 0301 plantilla simple leer input.ipynb",
      "provenance": [],
      "authorship_tag": "ABX9TyMX3zDrewSC4XOBHJK4nxQn",
      "include_colab_link": true
    },
    "kernelspec": {
      "name": "python3",
      "display_name": "Python 3"
    }
  },
  "cells": [
    {
      "cell_type": "markdown",
      "metadata": {
        "id": "view-in-github",
        "colab_type": "text"
      },
      "source": [
        "<a href=\"https://colab.research.google.com/github/pcsilcan/ipc/blob/20202/ipc_20202_0301_plantilla_simple_leer_input.ipynb\" target=\"_parent\"><img src=\"https://colab.research.google.com/assets/colab-badge.svg\" alt=\"Open In Colab\"/></a>"
      ]
    },
    {
      "cell_type": "code",
      "metadata": {
        "id": "jvvCEk-M9_aK",
        "colab_type": "code",
        "colab": {
          "base_uri": "https://localhost:8080/",
          "height": 34
        },
        "outputId": "055653b7-8a5f-478d-8bab-61a704a0ff5d"
      },
      "source": [
        "%%writefile plantillita.cpp\n",
        "#include <bits/stdc++.h>\n",
        "\n",
        "using namespace std;\n",
        "\n",
        "int main() {\n",
        "    int N;\n",
        "    int X, Y;\n",
        "\n",
        "    cin >> N;\n",
        "    for (int i = 0; i < N; ++i) {\n",
        "        cin >> X >> Y;\n",
        "        cout << \"Test \" << X << \" \" << Y << endl;\n",
        "    }\n",
        "    return 0;\n",
        "}"
      ],
      "execution_count": 8,
      "outputs": [
        {
          "output_type": "stream",
          "text": [
            "Overwriting plantillita.cpp\n"
          ],
          "name": "stdout"
        }
      ]
    },
    {
      "cell_type": "code",
      "metadata": {
        "id": "9bx9EGJHAhX6",
        "colab_type": "code",
        "colab": {
          "base_uri": "https://localhost:8080/",
          "height": 34
        },
        "outputId": "f94b21c8-3c2f-4f13-96af-75d52d937921"
      },
      "source": [
        "%%writefile 1.in\n",
        "1\n",
        "0 1"
      ],
      "execution_count": 10,
      "outputs": [
        {
          "output_type": "stream",
          "text": [
            "Writing 1.in\n"
          ],
          "name": "stdout"
        }
      ]
    },
    {
      "cell_type": "code",
      "metadata": {
        "id": "AfXvbJ5QAyFS",
        "colab_type": "code",
        "colab": {
          "base_uri": "https://localhost:8080/",
          "height": 34
        },
        "outputId": "1e3a067e-c479-45a1-d0e3-a6e23ffedfe1"
      },
      "source": [
        "%%writefile 2.in\n",
        "2\n",
        "10 4\n",
        "-5 -8"
      ],
      "execution_count": 12,
      "outputs": [
        {
          "output_type": "stream",
          "text": [
            "Writing 2.in\n"
          ],
          "name": "stdout"
        }
      ]
    },
    {
      "cell_type": "code",
      "metadata": {
        "id": "KEf0ifep-qZX",
        "colab_type": "code",
        "colab": {
          "base_uri": "https://localhost:8080/",
          "height": 101
        },
        "outputId": "38063a42-c080-4822-fc91-aa49e2e22cfa"
      },
      "source": [
        "%%script bash\n",
        "g++ -std=c++14 plantillita.cpp\n",
        "# Forma 1\n",
        "for i in {1..2}\n",
        "do\n",
        "    echo \"Input $i\"\n",
        "    ./a.out < $i.in\n",
        "done"
      ],
      "execution_count": 22,
      "outputs": [
        {
          "output_type": "stream",
          "text": [
            "Input 1\n",
            "Test 0 1\n",
            "Input 2\n",
            "Test 10 4\n",
            "Test -5 -8\n"
          ],
          "name": "stdout"
        }
      ]
    },
    {
      "cell_type": "code",
      "metadata": {
        "id": "RaMjhy-9AEeA",
        "colab_type": "code",
        "colab": {
          "base_uri": "https://localhost:8080/",
          "height": 101
        },
        "outputId": "fecd9f8f-0c55-4baf-9d40-8e4de0890ea6"
      },
      "source": [
        "%%script bash\n",
        "# Forma 2\n",
        "for file in *.in\n",
        "do\n",
        "    echo \"Input $i\"\n",
        "    ./a.out < $file\n",
        "done"
      ],
      "execution_count": 24,
      "outputs": [
        {
          "output_type": "stream",
          "text": [
            "Input \n",
            "Test 0 1\n",
            "Input \n",
            "Test 10 4\n",
            "Test -5 -8\n"
          ],
          "name": "stdout"
        }
      ]
    },
    {
      "cell_type": "code",
      "metadata": {
        "id": "BsYu9dm9B9Ik",
        "colab_type": "code",
        "colab": {}
      },
      "source": [
        ""
      ],
      "execution_count": null,
      "outputs": []
    }
  ]
}