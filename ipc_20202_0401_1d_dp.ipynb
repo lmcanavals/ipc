{
  "nbformat": 4,
  "nbformat_minor": 0,
  "metadata": {
    "colab": {
      "name": "ipc 20202 0401 1d-dp.ipynb",
      "provenance": [],
      "authorship_tag": "ABX9TyNgODJo5f+l3R/4lK66Bmfv",
      "include_colab_link": true
    },
    "kernelspec": {
      "name": "python3",
      "display_name": "Python 3"
    }
  },
  "cells": [
    {
      "cell_type": "markdown",
      "metadata": {
        "id": "view-in-github",
        "colab_type": "text"
      },
      "source": [
        "<a href=\"https://colab.research.google.com/github/pcsilcan/ipc/blob/20202/ipc_20202_0401_1d_dp.ipynb\" target=\"_parent\"><img src=\"https://colab.research.google.com/assets/colab-badge.svg\" alt=\"Open In Colab\"/></a>"
      ]
    },
    {
      "cell_type": "code",
      "metadata": {
        "id": "lJGHyyUrPZFr",
        "colab_type": "code",
        "colab": {}
      },
      "source": [
        "def D(n):\n",
        "    if n < 0:\n",
        "        return 0\n",
        "    if n < 3:\n",
        "        return 1\n",
        "    if n == 3:\n",
        "        return 2\n",
        "    return D(n-1) + D(n-3) + D(n-4)"
      ],
      "execution_count": null,
      "outputs": []
    },
    {
      "cell_type": "code",
      "metadata": {
        "id": "kgUhIE0WRHO8",
        "colab_type": "code",
        "colab": {}
      },
      "source": [
        "def D2(n):\n",
        "    D = [0]*(n+1)\n",
        "    D[0] = D[1] = D[2] = 1\n",
        "    D[3] = 2\n",
        "    for i in range(4, n+1):\n",
        "        D[i] = D[i-1] + D[i-3] + D[i-4]\n",
        "    return D[n]"
      ],
      "execution_count": null,
      "outputs": []
    },
    {
      "cell_type": "code",
      "metadata": {
        "id": "yjN3a9K4QA9g",
        "colab_type": "code",
        "colab": {
          "base_uri": "https://localhost:8080/",
          "height": 34
        },
        "outputId": "b045445f-af54-412d-f97f-77ff44ee4217"
      },
      "source": [
        "%timeit D(20)"
      ],
      "execution_count": null,
      "outputs": [
        {
          "output_type": "stream",
          "text": [
            "1000 loops, best of 3: 1.27 ms per loop\n"
          ],
          "name": "stdout"
        }
      ]
    },
    {
      "cell_type": "code",
      "metadata": {
        "id": "BAV_-Fw-QClV",
        "colab_type": "code",
        "colab": {
          "base_uri": "https://localhost:8080/",
          "height": 34
        },
        "outputId": "a21ec679-f777-4194-b87f-91322def5da9"
      },
      "source": [
        "%timeit D2(20)"
      ],
      "execution_count": null,
      "outputs": [
        {
          "output_type": "stream",
          "text": [
            "100000 loops, best of 3: 3.16 µs per loop\n"
          ],
          "name": "stdout"
        }
      ]
    },
    {
      "cell_type": "code",
      "metadata": {
        "id": "7TOnQJUMRcXb",
        "colab_type": "code",
        "colab": {}
      },
      "source": [
        ""
      ],
      "execution_count": null,
      "outputs": []
    }
  ]
}