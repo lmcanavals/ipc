{
  "nbformat": 4,
  "nbformat_minor": 0,
  "metadata": {
    "colab": {
      "name": "ipc 20202 0402 2d-dp.ipynb",
      "provenance": [],
      "authorship_tag": "ABX9TyNjqJyp7ErruUE/rLmqJN04",
      "include_colab_link": true
    },
    "kernelspec": {
      "name": "python3",
      "display_name": "Python 3"
    }
  },
  "cells": [
    {
      "cell_type": "markdown",
      "metadata": {
        "id": "view-in-github",
        "colab_type": "text"
      },
      "source": [
        "<a href=\"https://colab.research.google.com/github/pcsilcan/ipc/blob/20202/ipc_20202_0402_2d_dp.ipynb\" target=\"_parent\"><img src=\"https://colab.research.google.com/assets/colab-badge.svg\" alt=\"Open In Colab\"/></a>"
      ]
    },
    {
      "cell_type": "code",
      "metadata": {
        "id": "cI7vWtdq_KQ_",
        "colab_type": "code",
        "colab": {
          "base_uri": "https://localhost:8080/",
          "height": 34
        },
        "outputId": "c3387edb-e116-4e26-9169-faf279ea1cd4"
      },
      "source": [
        "%%writefile lcs.cpp\n",
        "#include <bits/stdc++.h>\n",
        "\n",
        "using namespace std;\n",
        "\n",
        "int lcs(string& x, string& y) {\n",
        "    int n = x.size();\n",
        "    int m = y.size();\n",
        "    vector<vector<int>> D(n+1, vector<int>(m+1, 0));\n",
        "    for (int i = 1; i <= n; ++i) {\n",
        "        for (int j = 1; j <= m; ++j) {\n",
        "            if (x[i] == y[j]) {\n",
        "                D[i][j] = D[i-1][j-1] + 1;\n",
        "            } else {\n",
        "                D[i][j] = max(D[i-1][j], D[i][j-1]);\n",
        "            }\n",
        "        }\n",
        "    }\n",
        "    return D[n][m];\n",
        "}\n",
        "\n",
        "int main() {\n",
        "    string x = \"ABCBDAB\";\n",
        "    string y = \"BDCABC\";\n",
        "    cout << lcs(x, y) << endl;\n",
        "    return 0;\n",
        "}"
      ],
      "execution_count": 18,
      "outputs": [
        {
          "output_type": "stream",
          "text": [
            "Overwriting lcs.cpp\n"
          ],
          "name": "stdout"
        }
      ]
    },
    {
      "cell_type": "code",
      "metadata": {
        "id": "tO8ot02f_dps",
        "colab_type": "code",
        "colab": {
          "base_uri": "https://localhost:8080/",
          "height": 34
        },
        "outputId": "b43b5995-a4ad-411c-897b-899ed3f64687"
      },
      "source": [
        "!g++ -std=c++14 lcs.cpp && ./a.out"
      ],
      "execution_count": 19,
      "outputs": [
        {
          "output_type": "stream",
          "text": [
            "4\n"
          ],
          "name": "stdout"
        }
      ]
    },
    {
      "cell_type": "code",
      "metadata": {
        "id": "cGNMl6VVDJTM",
        "colab_type": "code",
        "colab": {}
      },
      "source": [
        ""
      ],
      "execution_count": null,
      "outputs": []
    }
  ]
}