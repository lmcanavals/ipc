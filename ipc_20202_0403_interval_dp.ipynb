{
  "nbformat": 4,
  "nbformat_minor": 0,
  "metadata": {
    "colab": {
      "name": "ipc 20202 0403 interval dp.ipynb",
      "provenance": [],
      "authorship_tag": "ABX9TyPpUNWRRl6fJTN4tUY2fmTm",
      "include_colab_link": true
    },
    "kernelspec": {
      "name": "python3",
      "display_name": "Python 3"
    }
  },
  "cells": [
    {
      "cell_type": "markdown",
      "metadata": {
        "id": "view-in-github",
        "colab_type": "text"
      },
      "source": [
        "<a href=\"https://colab.research.google.com/github/pcsilcan/ipc/blob/20202/ipc_20202_0403_interval_dp.ipynb\" target=\"_parent\"><img src=\"https://colab.research.google.com/assets/colab-badge.svg\" alt=\"Open In Colab\"/></a>"
      ]
    },
    {
      "cell_type": "code",
      "metadata": {
        "id": "dnAhyn8EIPx1",
        "colab_type": "code",
        "colab": {
          "base_uri": "https://localhost:8080/",
          "height": 34
        },
        "outputId": "5b4951da-d353-4348-c6d6-155df3185a62"
      },
      "source": [
        "%%writefile pali.cpp\n",
        "#include <bits/stdc++.h>\n",
        "\n",
        "using namespace std;\n",
        "\n",
        "int pali(string x) {\n",
        "    int n = x.size();\n",
        "    int i, j;\n",
        "    vector<vector<int>> D(n+1, vector<int>(n+1, 0));\n",
        "    for (int t = 2; t <= n; ++t) {\n",
        "        for (i = 1, j = t; j <= n; ++i, ++j) {\n",
        "            if (x[i] != x[j]) {\n",
        "                D[i][j] = 1 + min(D[i+1][j], D[i][j-1]);\n",
        "            } else {\n",
        "                D[i][j] = D[i+1][j-1];\n",
        "            }\n",
        "        }\n",
        "    }\n",
        "    for (i = 0; i < D.size(); ++i) {\n",
        "        for (j = 0; j < D.size(); ++j) {\n",
        "            cout << D[i][j] << \" \";\n",
        "        }\n",
        "        cout << endl;\n",
        "    }\n",
        "    return D[n][n];\n",
        "}\n",
        "int main() {\n",
        "    cout << pali(\"Ab3bd\") << endl;\n",
        "    return 0;\n",
        "}"
      ],
      "execution_count": 14,
      "outputs": [
        {
          "output_type": "stream",
          "text": [
            "Overwriting pali.cpp\n"
          ],
          "name": "stdout"
        }
      ]
    },
    {
      "cell_type": "code",
      "metadata": {
        "id": "YKWqOGhnKALz",
        "colab_type": "code",
        "colab": {
          "base_uri": "https://localhost:8080/",
          "height": 134
        },
        "outputId": "e4aed762-86a4-4f3e-f253-89fc7dcb1a1b"
      },
      "source": [
        "!g++ -std=c++14 pali.cpp && ./a.out"
      ],
      "execution_count": 15,
      "outputs": [
        {
          "output_type": "stream",
          "text": [
            "0 0 0 0 0 0 \n",
            "0 0 1 0 1 2 \n",
            "0 0 0 1 2 3 \n",
            "0 0 0 0 1 2 \n",
            "0 0 0 0 0 1 \n",
            "0 0 0 0 0 0 \n",
            "0\n"
          ],
          "name": "stdout"
        }
      ]
    },
    {
      "cell_type": "code",
      "metadata": {
        "id": "3SroH_7rKMum",
        "colab_type": "code",
        "colab": {}
      },
      "source": [
        ""
      ],
      "execution_count": null,
      "outputs": []
    }
  ]
}