{
  "nbformat": 4,
  "nbformat_minor": 0,
  "metadata": {
    "colab": {
      "name": "ipc 20202 0501 there is path.ipynb",
      "provenance": [],
      "authorship_tag": "ABX9TyMtzDsVBcMPUz5bdMHTg60z",
      "include_colab_link": true
    },
    "kernelspec": {
      "name": "python3",
      "display_name": "Python 3"
    }
  },
  "cells": [
    {
      "cell_type": "markdown",
      "metadata": {
        "id": "view-in-github",
        "colab_type": "text"
      },
      "source": [
        "<a href=\"https://colab.research.google.com/github/pcsilcan/ipc/blob/20202/ipc_20202_0501_there_is_path.ipynb\" target=\"_parent\"><img src=\"https://colab.research.google.com/assets/colab-badge.svg\" alt=\"Open In Colab\"/></a>"
      ]
    },
    {
      "cell_type": "markdown",
      "metadata": {
        "id": "caQynVEwcUG6",
        "colab_type": "text"
      },
      "source": [
        "## Input\n",
        "First line N, number of vertexes\n",
        "then N lines follow containing a series of numbers or an *. The numbers represent the Edges from the current vertex to the vertex denoted by the number. If a * is found, means there are no out edges from the current vertex.\n",
        "A blank line follows and then a number M the test cases. M lines follow with 2 numbers each. U and V that we need to determine if there is a path from U to V.\n",
        "\n",
        "    2 <= N <= 100\n",
        "## Output\n",
        "For each test case, a single line containing `yes` or `no`\n"
      ]
    },
    {
      "cell_type": "code",
      "metadata": {
        "id": "82gqgk39VdEm",
        "colab_type": "code",
        "colab": {
          "base_uri": "https://localhost:8080/",
          "height": 34
        },
        "outputId": "2a30b3e3-f681-410a-dd22-9a656cbb4891"
      },
      "source": [
        "%%writefile 1.in\n",
        "8\n",
        "1 2 4\n",
        "*\n",
        "*\n",
        "5 7\n",
        "7\n",
        "1 6\n",
        "2\n",
        "*\n",
        "\n",
        "2\n",
        "3 6\n",
        "4 3"
      ],
      "execution_count": 22,
      "outputs": [
        {
          "output_type": "stream",
          "text": [
            "Overwriting 1.in\n"
          ],
          "name": "stdout"
        }
      ]
    },
    {
      "cell_type": "code",
      "metadata": {
        "id": "PCXB-_UyWijS",
        "colab_type": "code",
        "colab": {
          "base_uri": "https://localhost:8080/",
          "height": 34
        },
        "outputId": "7e457680-1dc4-4b69-e587-55f25cd74b34"
      },
      "source": [
        "%%writefile 1.cpp\n",
        "#include <bits/stdc++.h>\n",
        "\n",
        "#define MAXN 100\n",
        "\n",
        "using namespace std;\n",
        "\n",
        "vector<int> G[MAXN];\n",
        "int n;\n",
        "\n",
        "bool bfs(int s, int t) {\n",
        "    int u;\n",
        "    vector<bool> vis(n, false);\n",
        "    vector<int>  path(n, -1);\n",
        "    queue<int>   q;\n",
        "\n",
        "    vis[s] = true;\n",
        "    q.push(s);\n",
        "    while (!q.empty()) {\n",
        "        u = q.front(); q.pop();\n",
        "        if (u == t) return true;\n",
        "        for (auto v : G[u]) {\n",
        "            if (!vis[v]) {\n",
        "                path[v] = u;\n",
        "                vis[v] = true;\n",
        "                q.push(v);\n",
        "            }\n",
        "        }\n",
        "    }\n",
        "    return false;\n",
        "}\n",
        "\n",
        "int main() {\n",
        "    int s, v, m;\n",
        "    string line, term;\n",
        "    cin >> n;\n",
        "    for (int i = -1; i < n; ++i) {\n",
        "        getline(cin, line);\n",
        "        if (line == \"*\") continue;\n",
        "        stringstream ss(line);\n",
        "        while (ss >> v) {\n",
        "            G[i].emplace_back(v);\n",
        "        }\n",
        "    }\n",
        "\n",
        "    cin >> m;\n",
        "    for (int i = 0; i < m; ++i) {\n",
        "        cin >> s >> v;\n",
        "        cout << (bfs(s, v) ? \"yes\" : \"no\") << endl;\n",
        "    }\n",
        "    \n",
        "    return 0;\n",
        "}"
      ],
      "execution_count": 35,
      "outputs": [
        {
          "output_type": "stream",
          "text": [
            "Overwriting 1.cpp\n"
          ],
          "name": "stdout"
        }
      ]
    },
    {
      "cell_type": "code",
      "metadata": {
        "id": "EuetbSieYDdr",
        "colab_type": "code",
        "colab": {
          "base_uri": "https://localhost:8080/",
          "height": 50
        },
        "outputId": "502ffe99-a993-446a-e23c-8ea97c7bbcf7"
      },
      "source": [
        "!g++ -std=c++14 1.cpp && ./a.out < 1.in"
      ],
      "execution_count": 36,
      "outputs": [
        {
          "output_type": "stream",
          "text": [
            "yes\n",
            "no\n"
          ],
          "name": "stdout"
        }
      ]
    },
    {
      "cell_type": "code",
      "metadata": {
        "id": "rOgJ6tSuYItC",
        "colab_type": "code",
        "colab": {}
      },
      "source": [
        ""
      ],
      "execution_count": null,
      "outputs": []
    }
  ]
}