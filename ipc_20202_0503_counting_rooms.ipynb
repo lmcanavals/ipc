{
  "nbformat": 4,
  "nbformat_minor": 0,
  "metadata": {
    "colab": {
      "name": "ipc 20202 0503 counting rooms.ipynb",
      "provenance": [],
      "authorship_tag": "ABX9TyPynR83pPMyg8ME+yvuvr5e",
      "include_colab_link": true
    },
    "kernelspec": {
      "name": "python3",
      "display_name": "Python 3"
    }
  },
  "cells": [
    {
      "cell_type": "markdown",
      "metadata": {
        "id": "view-in-github",
        "colab_type": "text"
      },
      "source": [
        "<a href=\"https://colab.research.google.com/github/pcsilcan/ipc/blob/20202/ipc_20202_0503_counting_rooms.ipynb\" target=\"_parent\"><img src=\"https://colab.research.google.com/assets/colab-badge.svg\" alt=\"Open In Colab\"/></a>"
      ]
    },
    {
      "cell_type": "markdown",
      "metadata": {
        "id": "0L8SY-IHq1pR",
        "colab_type": "text"
      },
      "source": [
        "# Counting rooms\n",
        "https://cses.fi/problemset/task/1192\n",
        "\n",
        "Solution by Fiorella"
      ]
    },
    {
      "cell_type": "code",
      "metadata": {
        "id": "RZBf5Tz5q0th",
        "colab_type": "code",
        "colab": {
          "base_uri": "https://localhost:8080/",
          "height": 34
        },
        "outputId": "6cba5dc1-9593-496e-c400-18f32794745e"
      },
      "source": [
        "%%writefile 1.cpp\n",
        "#include <bits/stdc++.h>\n",
        "using namespace std;\n",
        " \n",
        "const int maxn = 1e3 + 20;\n",
        "char a[maxn][maxn];\n",
        " \n",
        "int n, m;\n",
        " \n",
        "void dfs(int i, int j){\n",
        "\tif(i < 0 || i >= n || j < 0 || j >= m) return;\n",
        "\tif(a[i][j] == '#') return;\n",
        "\ta[i][j] = '#';\n",
        " \n",
        "\tdfs(i-1,j);\n",
        "\tdfs(i+1,j);\n",
        "\tdfs(i,j+1);\n",
        "\tdfs(i,j-1);\n",
        " \n",
        "}\n",
        "int main() {\n",
        "\tint ans = 0;\n",
        "\tscanf(\"%d%d\", &n, &m);\n",
        "\tfor(int i = 0; i < n; ++i) scanf(\"%s\", a[i]);\n",
        " \n",
        "\tfor(int i = 0; i < n; ++i)\n",
        "\t\tfor(int j = 0; j < m; ++j)\n",
        "\t\t\tif(a[i][j] == '.')\n",
        "\t\t\t\tdfs(i,j), ans++;\n",
        " \n",
        "\tprintf(\"%d\", ans);\n",
        " \n",
        "\treturn 0;\n",
        "}"
      ],
      "execution_count": 1,
      "outputs": [
        {
          "output_type": "stream",
          "text": [
            "Writing 1.cpp\n"
          ],
          "name": "stdout"
        }
      ]
    },
    {
      "cell_type": "code",
      "metadata": {
        "id": "PRA6tPy2q6BS",
        "colab_type": "code",
        "colab": {
          "base_uri": "https://localhost:8080/",
          "height": 34
        },
        "outputId": "54c88723-7340-47ad-905d-8435f59c8643"
      },
      "source": [
        "%%writefile 1.in\n",
        "5 8\n",
        "########\n",
        "#..#...#\n",
        "####.#.#\n",
        "#..#...#\n",
        "########"
      ],
      "execution_count": 2,
      "outputs": [
        {
          "output_type": "stream",
          "text": [
            "Writing 1.in\n"
          ],
          "name": "stdout"
        }
      ]
    },
    {
      "cell_type": "code",
      "metadata": {
        "id": "i7AhRpsNq_fu",
        "colab_type": "code",
        "colab": {
          "base_uri": "https://localhost:8080/",
          "height": 34
        },
        "outputId": "ad38061a-1c64-4988-fa51-ba5963f81c89"
      },
      "source": [
        "!g++ -std=c++14 1.cpp && ./a.out < 1.in"
      ],
      "execution_count": 3,
      "outputs": [
        {
          "output_type": "stream",
          "text": [
            "3"
          ],
          "name": "stdout"
        }
      ]
    },
    {
      "cell_type": "markdown",
      "metadata": {
        "id": "x7LRrfi4rkgA",
        "colab_type": "text"
      },
      "source": [
        "Solution by OscarB\n",
        "\n",
        "https://cses.fi/paste/e5d63a90d2e65fcaf389d/"
      ]
    },
    {
      "cell_type": "code",
      "metadata": {
        "id": "vpr4JgtnrBt0",
        "colab_type": "code",
        "colab": {}
      },
      "source": [
        ""
      ],
      "execution_count": null,
      "outputs": []
    }
  ]
}