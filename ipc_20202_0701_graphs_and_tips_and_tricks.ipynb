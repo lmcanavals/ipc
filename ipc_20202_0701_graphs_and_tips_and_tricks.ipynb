{
  "nbformat": 4,
  "nbformat_minor": 0,
  "metadata": {
    "colab": {
      "name": "ipc 20202 0701 graphs and tips and tricks.ipynb",
      "provenance": [],
      "authorship_tag": "ABX9TyMYnlciij5fTqhX5uiw/QOo",
      "include_colab_link": true
    },
    "kernelspec": {
      "name": "python3",
      "display_name": "Python 3"
    }
  },
  "cells": [
    {
      "cell_type": "markdown",
      "metadata": {
        "id": "view-in-github",
        "colab_type": "text"
      },
      "source": [
        "<a href=\"https://colab.research.google.com/github/pcsilcan/ipc/blob/20202/ipc_20202_0701_graphs_and_tips_and_tricks.ipynb\" target=\"_parent\"><img src=\"https://colab.research.google.com/assets/colab-badge.svg\" alt=\"Open In Colab\"/></a>"
      ]
    },
    {
      "cell_type": "code",
      "metadata": {
        "id": "_dra5v0wZ-NN",
        "outputId": "37ac2dfc-01bc-4637-9540-524dd90e68a4",
        "colab": {
          "base_uri": "https://localhost:8080/",
          "height": 34
        }
      },
      "source": [
        "%%writefile 1.cpp\n",
        "#include <bits/stdc++.h>\n",
        "\n",
        "using namespace std;\n",
        "\n",
        "#define rep(i, a, b) for(int i = a; i < (b); ++i)\n",
        "#define all(x) begin(x), end(x)\n",
        "#define sz(x) (int)(x).size()\n",
        "\n",
        "using ll  = long long;\n",
        "using pii = pair<int, int>;\n",
        "using vi  = vector<int>;\n",
        "\n",
        "void exchangeSort(vi& v) {\n",
        "    rep(i, 0, sz(v) - 1) rep(j, i+1, sz(v)) if (v[i] > v[j]) swap(v[i], v[j]);\n",
        "}\n",
        "\n",
        "\n",
        "const ll inf = 1LL << 62;\n",
        "void floydWarshall(vector<vector<ll>>& m) {\n",
        "    int n = sz(m);\n",
        "    rep(i,0,n) m[i][i] = min(m[i][i], 0LL);\n",
        "    rep(k,0,n) rep(i,0,n) rep(j,0,n)\n",
        "    if (m[i][k] != inf && m[k][j] != inf) {\n",
        "        auto newDist = max(m[i][k] + m[k][j], -inf);\n",
        "        m[i][j] = min(m[i][j], newDist);\n",
        "    }\n",
        "    rep(k,0,n) if (m[k][k] < 0) rep(i,0,n) rep(j,0,n)\n",
        "    if (m[i][k] != inf && m[k][j] != inf) m[i][j] = -inf;\n",
        "}\n",
        "\n",
        "void niceFW(vector<vector<long long>>& G) {\n",
        "    int n = G.size();\n",
        "    for (int i = 0; i < n; ++i) {\n",
        "        G[i][i] = min(m[i][i], 0LL);\n",
        "    }\n",
        "    for (int k = 0; k < n; ++k) {\n",
        "        for (int i = 0; i < n; ++i) {\n",
        "            for (int j = 0; j < n; ++j) {\n",
        "                if (G[i][k] != inf && G[k][j] != inf) {\n",
        "                    auto newDist = max(G[i][k] + G[k][j], -inf);\n",
        "                    m[i][j] = min(m[i][j], newDist);\n",
        "                }\n",
        "            }\n",
        "        }\n",
        "    }\n",
        "    for (int k = 0; k < n; ++k) {\n",
        "        if (G[k][k] < 0) {\n",
        "            for (int i = 0; i < n; ++i) {\n",
        "                for (int j = 0; j < n; ++j) {\n",
        "                    if (G[i][k] != inf && G[k][j] != inf) {\n",
        "                        G[i][j] = -inf;\n",
        "                    }\n",
        "                }\n",
        "            }\n",
        "        }\n",
        "    }\n",
        "\n",
        "}\n",
        "\n",
        "int main() {\n",
        "    ios::sync_with_stdio(false);\n",
        "    cout << \"a\\n\";\n",
        "    printf(\"b\\n\");\n",
        "    cout << \"c\\n\";\n",
        "    \n",
        "    int* x, y;\n",
        "    \n",
        "    printf(\"%p %d\\n\", x, y);\n",
        "\n",
        "    vi v = { 4, 8, 9, 1, 3, 7, 2, 6, 0, 5 };\n",
        "\n",
        "    exchangeSort(v);\n",
        "\n",
        "    rep(i, 0, sz(v)) printf(\"%d \", v[i]);\n",
        "    printf(\"\\n\");\n",
        "\n",
        "    return 0;\n",
        "}\n"
      ],
      "execution_count": null,
      "outputs": [
        {
          "output_type": "stream",
          "text": [
            "Overwriting 1.cpp\n"
          ],
          "name": "stdout"
        }
      ]
    },
    {
      "cell_type": "code",
      "metadata": {
        "id": "rlVJc03lbjVj",
        "outputId": "18da5323-70c9-4fb1-d8dd-070dc01e9328",
        "colab": {
          "base_uri": "https://localhost:8080/",
          "height": 84
        }
      },
      "source": [
        "!g++ -std=c++11 -O2 1.cpp && ./a.out"
      ],
      "execution_count": null,
      "outputs": [
        {
          "output_type": "stream",
          "text": [
            "b\n",
            "(nil) 00 1 2 3 4 5 6 7 8 9 \n",
            "a\n",
            "c\n"
          ],
          "name": "stdout"
        }
      ]
    },
    {
      "cell_type": "code",
      "metadata": {
        "id": "doUNKJ2bgFs5",
        "outputId": "a5a0cd07-db99-49ba-e2b9-1dd846ab0439",
        "colab": {
          "base_uri": "https://localhost:8080/",
          "height": 34
        }
      },
      "source": [
        "%%writefile .bashrc\n",
        "alias c='g++ -Wall -Wconversion -Wfatal-errors -g -std=c++14 -O2 \\\n",
        "-fsanitize=undefined,address'\n",
        "xmodmap -e 'clear lock' -e 'keycode 66=less greater' #caps = <>"
      ],
      "execution_count": null,
      "outputs": [
        {
          "output_type": "stream",
          "text": [
            "Writing .bashrc\n"
          ],
          "name": "stdout"
        }
      ]
    },
    {
      "cell_type": "markdown",
      "metadata": {
        "id": "_Oaxdz4zqWVG"
      },
      "source": [
        "# TopoSort"
      ]
    },
    {
      "cell_type": "code",
      "metadata": {
        "id": "JyTAfFtpf1f1",
        "outputId": "633cda26-a400-417e-f61b-16dd3175a690",
        "colab": {
          "base_uri": "https://localhost:8080/",
          "height": 34
        }
      },
      "source": [
        "%%writefile 2.cpp\n",
        "#include <bits/stdc++.h>\n",
        "\n",
        "using namespace std;\n",
        "\n",
        "#define rep(i, a, b) for(int i = a; i < (b); ++i)\n",
        "#define all(x) begin(x), end(x)\n",
        "#define sz(x) (int)(x).size()\n",
        "\n",
        "using ll  = long long;\n",
        "using pii = pair<int, int>;\n",
        "using vi  = vector<int>;\n",
        "\n",
        "using namespace std;\n",
        "using namespace std::chrono;\n",
        "\n",
        "\n",
        "vi topoSort(const vector<vi>& gr) {\n",
        "    vi indeg(sz(gr)), ret;\n",
        "    for (auto& li : gr) for (int x : li) indeg[x]++;\n",
        "    queue<int> q; // use pr ior ity queue for l e x i c . sma l lest ans .\n",
        "    rep(i,0,sz(gr)) if (indeg[i] == 0) q.push(-i);\n",
        "    while (!q.empty()) {\n",
        "        int i = -q.front(); // top () for pr ior ity queue\n",
        "        ret.push_back(i);\n",
        "        q.pop();\n",
        "        for (int x : gr[i]) if (--indeg[x] == 0) q.push(-x);\n",
        "    }\n",
        "    return ret;\n",
        "}\n",
        "\n",
        "\n",
        "void dfs(const vector<vi>& G, vector<bool>& k, vi& order, int u) {\n",
        "    k[u] = true;\n",
        "    for (auto v : G[u]) if (!k[v]) dfs(G, k, order, v);\n",
        "    order.push_back(u);\n",
        "}\n",
        "\n",
        "vi topoSort2(const vector<vi>& G) {\n",
        "    int n = sz(G);\n",
        "    vector<bool> k(n, false);\n",
        "    vi order;\n",
        "    rep(u, 0, n) if (!k[u]) dfs(G, k, order, u);\n",
        "    return order;\n",
        "}\n",
        "\n",
        "void topo(const vector<vi>& arr, int wa, vector<bool>& visited, vi& topu) {\n",
        "    visited[wa] = true;\n",
        "    for (auto a : arr[wa]) if (!visited[a]) topo(arr, a, visited, topu);\n",
        "    topu.push_back(wa);\n",
        "}\n",
        "\n",
        "vi topoSort3(const vector<vi>& arr) {\n",
        "    int n = arr.size();\n",
        "    vi topu;\n",
        "    vector<bool> visited(n, false);\n",
        "\n",
        "    rep(u, 0, n) if (!visited[u]) topo(arr, u, visited, topu);\n",
        "\n",
        "    return topu;\n",
        "}\n",
        "\n",
        "vector<vi> G;\n",
        "\n",
        "void testSort(vi (*sort)(const vector<vi>&)) {\n",
        "    steady_clock::time_point begin = steady_clock::now();\n",
        "    vi v = sort(G);\n",
        "    steady_clock::time_point end = steady_clock::now();\n",
        "    for (auto u : v) printf(\"%d \", u);\n",
        "    printf(\"\\n\");\n",
        "\n",
        "    printf(\"%lf microseconds\\n\",\n",
        "           duration_cast<nanoseconds>(end - begin).count() / 1e3);\n",
        "}\n",
        "\n",
        "const ll inf = 1LL << 62;\n",
        "\n",
        "#define p2v(a, b, p) int a; int b; a = p.first; b = p.second;\n",
        "#define mp(a, b) make_pair((a), (b))\n",
        "\n",
        "vi dijkstra(vector<vector<pii>>& G, int s) {\n",
        "    int n = sz(G);\n",
        "    vector<bool> visited(n, false);\n",
        "    vector<ll> dist(n, inf);\n",
        "    vi path(n, -1);\n",
        "    priority_queue<pii, vector<pii>, greater<pii>> q;\n",
        "    q.push(mp(0, s));\n",
        "    while (!q.empty()) {\n",
        "        p2v(du, u, q.top()); q.pop();\n",
        "        if (visited[u]) continue;\n",
        "        visited[u] = true;\n",
        "        for (auto pv : G[u]) {\n",
        "            p2v(v, w, pv);\n",
        "            auto f = du + w;\n",
        "            if (!visited[v] && f < dist[v]) {\n",
        "                path[v] = u;\n",
        "                dist[v] = f;\n",
        "                q.push(mp(f, v));\n",
        "            }\n",
        "        }\n",
        "    }\n",
        "    return path;\n",
        "}\n",
        "\n",
        "\n",
        "int main() {\n",
        "    G = {{4, 7},\n",
        "         {2},\n",
        "         {6},\n",
        "         {6, 17},\n",
        "         {},\n",
        "         {8},\n",
        "         {9, 10},\n",
        "         {8, 11},\n",
        "         {},\n",
        "         {},\n",
        "         {13},\n",
        "         {14},\n",
        "         {},\n",
        "         {16},\n",
        "         {},\n",
        "         {17},\n",
        "         {},\n",
        "         {}};\n",
        "\n",
        "    testSort(topoSort);\n",
        "    testSort(topoSort2);\n",
        "    testSort(topoSort3);\n",
        "\n",
        "    vector<vector<pii>> G2 = {{mp(1, 7), mp(4, 7)},\n",
        "                              {mp(0, 7), mp(3, 5), mp(5, 6), mp(6, 6)},\n",
        "                              {mp(5, 9)},\n",
        "                              {mp(1, 5), mp(7, 8)},\n",
        "                              {mp(0, 7), mp(6, 9), mp(7, 1)},\n",
        "                              {mp(1, 6), mp(2, 9), mp(6, 1), mp(7, 2)},\n",
        "                              {mp(1, 6), mp(4, 9), mp(5, 1), mp(7, 6)},\n",
        "                              {mp(3, 8), mp(4, 1), mp(5, 2), mp(6, 6)}};\n",
        "    vi path = dijkstra(G2, 0);\n",
        "\n",
        "    for (auto u : path) printf(\"%d \", u); printf(\"\\n\");\n",
        "\n",
        "\n",
        "    return 0;\n",
        "}"
      ],
      "execution_count": 84,
      "outputs": [
        {
          "output_type": "stream",
          "text": [
            "Overwriting 2.cpp\n"
          ],
          "name": "stdout"
        }
      ]
    },
    {
      "cell_type": "code",
      "metadata": {
        "id": "tX4XaNgmvXjg",
        "outputId": "592e17bd-3f8a-4cc1-f971-2b7e4794a604",
        "colab": {
          "base_uri": "https://localhost:8080/",
          "height": 134
        }
      },
      "source": [
        "!g++ -std=c++11 -O2 2.cpp && ./a.out"
      ],
      "execution_count": 85,
      "outputs": [
        {
          "output_type": "stream",
          "text": [
            "0 1 3 5 12 15 4 7 2 17 8 11 6 14 9 10 13 16 \n",
            "31.343000 microseconds\n",
            "4 8 14 11 7 0 9 16 13 10 6 2 1 17 3 5 12 15 \n",
            "1.521000 microseconds\n",
            "4 8 14 11 7 0 9 16 13 10 6 2 1 17 3 5 12 15 \n",
            "1.236000 microseconds\n",
            "-1 0 5 1 0 7 5 4 \n"
          ],
          "name": "stdout"
        }
      ]
    },
    {
      "cell_type": "code",
      "metadata": {
        "id": "HughG39VvhJ7"
      },
      "source": [
        ""
      ],
      "execution_count": 34,
      "outputs": []
    }
  ]
}