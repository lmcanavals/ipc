{
  "nbformat": 4,
  "nbformat_minor": 0,
  "metadata": {
    "colab": {
      "name": "ipc 20202 1001 graph flow.ipynb",
      "provenance": [],
      "authorship_tag": "ABX9TyN2kQg2Igi4AJeeoiXPM9on",
      "include_colab_link": true
    },
    "kernelspec": {
      "name": "python3",
      "display_name": "Python 3"
    }
  },
  "cells": [
    {
      "cell_type": "markdown",
      "metadata": {
        "id": "view-in-github",
        "colab_type": "text"
      },
      "source": [
        "<a href=\"https://colab.research.google.com/github/pcsilcan/ipc/blob/20202/ipc_20202_1001_graph_flow.ipynb\" target=\"_parent\"><img src=\"https://colab.research.google.com/assets/colab-badge.svg\" alt=\"Open In Colab\"/></a>"
      ]
    },
    {
      "cell_type": "code",
      "metadata": {
        "id": "Pph6fR2-nkDR",
        "outputId": "573dcc5f-9b12-4341-f511-02065dac3a17",
        "colab": {
          "base_uri": "https://localhost:8080/",
          "height": 35
        }
      },
      "source": [
        "%%writefile 1.cpp\n",
        "#include <bits/stdc++.h>\n",
        "\n",
        "using namespace std;\n",
        "\n",
        "#define rep(i, a, b) for (int i = a; i < b; ++i)\n",
        "\n",
        "const int MAX = 100;\n",
        "const int INF = 734875478;\n",
        "int _;\n",
        "\n",
        "using ll                = long long;\n",
        "using vi                = vector<int>;\n",
        "using G                 = vector<vi>;\n",
        "\n",
        "int g[MAX][MAX] = { 0 };\n",
        "int p[MAX] = {};\n",
        "bool k[MAX] = { 0 };\n",
        "int n;\n",
        "int bottleneck;\n",
        "\n",
        "void printG() {\n",
        "    rep (u, 0, n) {\n",
        "        printf(\"%2d: \", u);\n",
        "        rep (v, 0, n) {\n",
        "            printf(\"%2d \", g[u][v]);\n",
        "        }\n",
        "        printf(\"\\n\");\n",
        "    }\n",
        "}\n",
        "\n",
        "void dfs(int u, int t) {\n",
        "    if (k[u]) return;\n",
        "    k[u] = true;\n",
        "    if (u != t)\n",
        "        rep(v, 0, n)\n",
        "            if (g[u][v] != 0 && !k[v]) {\n",
        "                bottleneck = min(bottleneck, g[u][v]);\n",
        "                p[v] = u;\n",
        "                dfs(v, t);\n",
        "            }\n",
        "}\n",
        "\n",
        "int fordFulkerson(int s, int t) {\n",
        "    p[s] = -1;\n",
        "    \n",
        "    for (;;) {\n",
        "        rep(u, 0, n) k[u] = false;\n",
        "        bottleneck = INF;\n",
        "        dfs(s, t);\n",
        "        if (!k[t]) break;\n",
        "        int u, v = t;\n",
        "        while (v != s) {\n",
        "            u = p[v];\n",
        "            g[u][v] -= bottleneck;\n",
        "            g[v][u] += bottleneck;\n",
        "            v = u;\n",
        "        }\n",
        "    }\n",
        "    \n",
        "    int maxFlow = 0;\n",
        "    rep(i, 0, n) maxFlow += g[i][0];\n",
        "    \n",
        "    return maxFlow;\n",
        "}\n",
        "\n",
        "int main() {\n",
        "    _ = scanf(\"%d\", &n);\n",
        "    rep(u, 0, n) rep(v, 0, n) _ = scanf(\"%d\", &g[u][v]);\n",
        "    printf(\"Max Flow = %d\\n\", fordFulkerson(0, 3));\n",
        "\n",
        "    return 0;\n",
        "}"
      ],
      "execution_count": 110,
      "outputs": [
        {
          "output_type": "stream",
          "text": [
            "Overwriting 1.cpp\n"
          ],
          "name": "stdout"
        }
      ]
    },
    {
      "cell_type": "code",
      "metadata": {
        "id": "IU3ZC75MqOch",
        "outputId": "80bfd3ee-f1a7-4650-9062-26d2714ea2fa",
        "colab": {
          "base_uri": "https://localhost:8080/",
          "height": 35
        }
      },
      "source": [
        "!g++ -std=c++14 -O2 1.cpp && ./a.out < 1.in"
      ],
      "execution_count": 111,
      "outputs": [
        {
          "output_type": "stream",
          "text": [
            "Max Flow = 8\n"
          ],
          "name": "stdout"
        }
      ]
    },
    {
      "cell_type": "code",
      "metadata": {
        "id": "G2JaPN7r1z5a",
        "outputId": "9a6beeef-0417-44fe-b7c5-1e8dd917f882",
        "colab": {
          "base_uri": "https://localhost:8080/",
          "height": 35
        }
      },
      "source": [
        "%%writefile 1.in\n",
        "4\n",
        "0 4 8 0\n",
        "0 0 1 8\n",
        "0 1 0 3\n",
        "0 0 0 0"
      ],
      "execution_count": 112,
      "outputs": [
        {
          "output_type": "stream",
          "text": [
            "Overwriting 1.in\n"
          ],
          "name": "stdout"
        }
      ]
    },
    {
      "cell_type": "code",
      "metadata": {
        "id": "04Yd8g4O298b"
      },
      "source": [
        ""
      ],
      "execution_count": null,
      "outputs": []
    }
  ]
}