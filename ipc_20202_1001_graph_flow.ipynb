{
  "nbformat": 4,
  "nbformat_minor": 0,
  "metadata": {
    "colab": {
      "name": "ipc 20202 1001 graph flow.ipynb",
      "provenance": [],
      "authorship_tag": "ABX9TyOjK7ZNYnAWme3NA+cK+x9e",
      "include_colab_link": true
    },
    "kernelspec": {
      "name": "python3",
      "display_name": "Python 3"
    }
  },
  "cells": [
    {
      "cell_type": "markdown",
      "metadata": {
        "id": "view-in-github",
        "colab_type": "text"
      },
      "source": [
        "<a href=\"https://colab.research.google.com/github/pcsilcan/ipc/blob/20202/ipc_20202_1001_graph_flow.ipynb\" target=\"_parent\"><img src=\"https://colab.research.google.com/assets/colab-badge.svg\" alt=\"Open In Colab\"/></a>"
      ]
    },
    {
      "cell_type": "code",
      "metadata": {
        "id": "Pph6fR2-nkDR",
        "outputId": "d9ba686c-f4df-40fe-c1ac-4868a5a2235a",
        "colab": {
          "base_uri": "https://localhost:8080/",
          "height": 35
        }
      },
      "source": [
        "%%writefile 1.cpp\n",
        "#include <bits/stdc++.h>\n",
        "\n",
        "using namespace std;\n",
        "\n",
        "#define rep(i, a, b) for (int i = a; i < b; ++i)\n",
        "\n",
        "using ll                = long long;\n",
        "using vi                = vector<int>;\n",
        "using pii               = pair<int, int>;\n",
        "using vpii              = vector<pii>;\n",
        "using G                 = vector<vpii>;\n",
        "\n",
        "void printG(G g) {\n",
        "    rep (u, 0, g.size()) {\n",
        "        printf(\"%2d: \", u);\n",
        "        for (auto edge : g[u]) {\n",
        "            printf(\"(%2d, %2d) \", edge.first, edge.second);\n",
        "        }\n",
        "        printf(\"\\n\");\n",
        "    }\n",
        "}\n",
        "\n",
        "void fordFulkerson(G& g, int s, int t) {\n",
        "    auto n = g.size();\n",
        "    G gr = G(n, vpii()); // grafo residual\n",
        "    rep(u, 0, n)\n",
        "        for (auto edge : g[u]) {\n",
        "            gr[u].push_back(edge);\n",
        "            gr[edge.first].push_back(make_pair(u, 0));\n",
        "        }\n",
        "    \n",
        "    printG(gr);\n",
        "}\n",
        "\n",
        "int main() {\n",
        "    G g = {{{1, 8}, {2, 8}},\n",
        "           {{3, 8}},\n",
        "           {{1, 1}, {3, 8}},\n",
        "           {}};\n",
        "    \n",
        "    fordFulkerson(g, 0, 3);\n",
        "\n",
        "    return 0;\n",
        "}"
      ],
      "execution_count": 15,
      "outputs": [
        {
          "output_type": "stream",
          "text": [
            "Overwriting 1.cpp\n"
          ],
          "name": "stdout"
        }
      ]
    },
    {
      "cell_type": "code",
      "metadata": {
        "id": "IU3ZC75MqOch",
        "outputId": "43854e02-3c5f-4601-8d2e-437375c254cb",
        "colab": {
          "base_uri": "https://localhost:8080/",
          "height": 89
        }
      },
      "source": [
        "!g++ -std=c++14 -O2 1.cpp && ./a.out"
      ],
      "execution_count": 16,
      "outputs": [
        {
          "output_type": "stream",
          "text": [
            " 0: ( 1,  8) ( 2,  8) \n",
            " 1: ( 0,  0) ( 3,  8) ( 2,  0) \n",
            " 2: ( 0,  0) ( 1,  1) ( 3,  8) \n",
            " 3: ( 1,  0) ( 2,  0) \n"
          ],
          "name": "stdout"
        }
      ]
    },
    {
      "cell_type": "code",
      "metadata": {
        "id": "ZHNkbL8VqTK_"
      },
      "source": [
        ""
      ],
      "execution_count": null,
      "outputs": []
    }
  ]
}