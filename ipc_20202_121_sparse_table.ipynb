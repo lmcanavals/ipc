{
  "nbformat": 4,
  "nbformat_minor": 0,
  "metadata": {
    "colab": {
      "name": "ipc 20202 121 sparse table.ipynb",
      "provenance": [],
      "collapsed_sections": [],
      "include_colab_link": true
    },
    "kernelspec": {
      "name": "python3",
      "display_name": "Python 3"
    }
  },
  "cells": [
    {
      "cell_type": "markdown",
      "metadata": {
        "id": "view-in-github",
        "colab_type": "text"
      },
      "source": [
        "<a href=\"https://colab.research.google.com/github/pcsilcan/ipc/blob/20202/ipc_20202_121_sparse_table.ipynb\" target=\"_parent\"><img src=\"https://colab.research.google.com/assets/colab-badge.svg\" alt=\"Open In Colab\"/></a>"
      ]
    },
    {
      "cell_type": "code",
      "metadata": {
        "id": "jOJCrzLBpo02"
      },
      "source": [
        "MAX = 100\n",
        "Log2 = [0]*MAX\n",
        "\n",
        "def prelog2():\n",
        "  k = 0\n",
        "  for i in range(1, MAX):\n",
        "    k = k + (1 if (1 << (k+1) == i) else 0)\n",
        "    Log2[i] = k\n",
        "\n",
        "prelog2()\n",
        "\n",
        "Log2"
      ],
      "execution_count": null,
      "outputs": []
    },
    {
      "cell_type": "code",
      "metadata": {
        "id": "7jvmAExhqrzj",
        "outputId": "bc0101d2-ba0a-41e3-b7c8-e5566373f8b5",
        "colab": {
          "base_uri": "https://localhost:8080/"
        }
      },
      "source": [
        "n = 4\n",
        "print(n)\n",
        "print(\"{0:016b}\".format(n))"
      ],
      "execution_count": null,
      "outputs": [
        {
          "output_type": "stream",
          "text": [
            "4\n",
            "0000000000000100\n"
          ],
          "name": "stdout"
        }
      ]
    },
    {
      "cell_type": "code",
      "metadata": {
        "id": "8mWSoo4xrHlY",
        "outputId": "82fb3c0a-b179-4bcf-9ed9-cf5d88906e4e",
        "colab": {
          "base_uri": "https://localhost:8080/"
        }
      },
      "source": [
        "n = n << 2\n",
        "print(n)\n",
        "print(\"{0:016b}\".format(n))"
      ],
      "execution_count": null,
      "outputs": [
        {
          "output_type": "stream",
          "text": [
            "16\n",
            "0000000000010000\n"
          ],
          "name": "stdout"
        }
      ]
    },
    {
      "cell_type": "code",
      "metadata": {
        "id": "nk6KZ9vzrTRm"
      },
      "source": [
        "import numpy as np\n",
        "\n",
        "def solve():\n",
        "    ULTIMO_NIVEL = Log2[N] + 1\n",
        "    M = np.zeros((N, ULTIMO_NIVEL))\n",
        "    for i in range(N):\n",
        "        M[i][0] = v[i]\n",
        "    for k in range(ULTIMO_NIVEL):\n",
        "        LARGO = 1 << k\n",
        "        for i in range(N - 2 * LARGO + 1):\n",
        "            M[i][k+1] = min(M[i][k], M[i+LARGO][k])\n",
        "\n",
        "    return M"
      ],
      "execution_count": 10,
      "outputs": []
    },
    {
      "cell_type": "code",
      "metadata": {
        "id": "Vlijc24uAqcy"
      },
      "source": [
        "def rmq(i, j):\n",
        "    k = Log2[j-i+1]\n",
        "    return min(M[i][k], M[j-(1<<k)+1][k])"
      ],
      "execution_count": 5,
      "outputs": []
    },
    {
      "cell_type": "code",
      "metadata": {
        "id": "mcHHGKSywluW",
        "outputId": "c17c9041-569d-484f-8a0b-15228e8688cc",
        "colab": {
          "base_uri": "https://localhost:8080/"
        }
      },
      "source": [
        "%%writefile 1.in\n",
        "3\n",
        "1 4 1\n",
        "2\n",
        "1 1\n",
        "1 2"
      ],
      "execution_count": 1,
      "outputs": [
        {
          "output_type": "stream",
          "text": [
            "Writing 1.in\n"
          ],
          "name": "stdout"
        }
      ]
    },
    {
      "cell_type": "code",
      "metadata": {
        "id": "YpMeOlJcAN_8",
        "outputId": "683c3b3a-17a0-4cdc-cf55-451bd4a5d6d3",
        "colab": {
          "base_uri": "https://localhost:8080/"
        }
      },
      "source": [
        "N = 3\n",
        "v = [1, 4, 1]\n",
        "M = solve()\n",
        "print(rmq(1, 1))\n",
        "print(rmq(1, 2))\n"
      ],
      "execution_count": 11,
      "outputs": [
        {
          "output_type": "stream",
          "text": [
            "4.0\n",
            "1.0\n"
          ],
          "name": "stdout"
        }
      ]
    },
    {
      "cell_type": "code",
      "metadata": {
        "id": "NMbRjLdBBHo_",
        "outputId": "d7c909e3-6a12-4d5e-a7f2-bc5e7a7ac5e0",
        "colab": {
          "base_uri": "https://localhost:8080/"
        }
      },
      "source": [
        "%%writefile 1.cpp\n",
        "#include <bits/stdc++.h>\n",
        "\n",
        "using namespace std;\n",
        "\n",
        "const int MAX = 1e5;\n",
        "\n",
        "int N;\n",
        "int v[MAX] = {};\n",
        "int M[MAX][20] = {};\n",
        "int Log2[MAX] = {0};\n",
        "\n",
        "void prelog2() {\n",
        "    for (int i = 1, k = 0; i < MAX; ++i) {\n",
        "        Log2[i] = k = k + (1 << (k+1) == i);\n",
        "    }\n",
        "}\n",
        "\n",
        "void solve() {\n",
        "    const int ULTIMO_NIVEL = Log2[N] + 1;\n",
        "    for (int i = 0; i < N; ++i) M[i][0] = v[i];\n",
        "    for (int k = 0; k < ULTIMO_NIVEL; ++k) {\n",
        "        const int LARGO = 1 << k;\n",
        "        for (int i = 0; i <= N - 2 * LARGO; ++i) {\n",
        "            M[i][k+1] = min(M[i][k], M[i+LARGO][k]);\n",
        "        }\n",
        "    }\n",
        "}\n",
        "\n",
        "int rmq(int i, int j) {\n",
        "    int k = Log2[j-i+1];\n",
        "    return min(M[i][k], M[j-(1<<k)+1][k]);\n",
        "}\n",
        "\n",
        "int main() {\n",
        "    int _;\n",
        "    _ = scanf(\"%d\", &N);\n",
        "    for (int i = 0; i < N; ++i) _ = scanf(\"%d\", &(v[i]));\n",
        "    prelog2();\n",
        "    solve();\n",
        "    int Q, i, j;\n",
        "    _ = scanf(\"%d\", &Q);\n",
        "    while (Q--) {\n",
        "        _ = scanf(\"%d %d\", &i, &j);\n",
        "        printf(\"%d\\n\", rmq(i, j));\n",
        "    }\n",
        "    return 0;\n",
        "}\n"
      ],
      "execution_count": 23,
      "outputs": [
        {
          "output_type": "stream",
          "text": [
            "Overwriting 1.cpp\n"
          ],
          "name": "stdout"
        }
      ]
    },
    {
      "cell_type": "code",
      "metadata": {
        "id": "pRenYoj6C16X",
        "outputId": "9ea389ce-135e-42f3-f80c-f0f81a12755b",
        "colab": {
          "base_uri": "https://localhost:8080/"
        }
      },
      "source": [
        "!g++ -std=c++14 -O2 -Wall 1.cpp && ./a.out < 1.in"
      ],
      "execution_count": 24,
      "outputs": [
        {
          "output_type": "stream",
          "text": [
            "\u001b[01m\u001b[K1.cpp:\u001b[m\u001b[K In function ‘\u001b[01m\u001b[Kint main()\u001b[m\u001b[K’:\n",
            "\u001b[01m\u001b[K1.cpp:35:9:\u001b[m\u001b[K \u001b[01;35m\u001b[Kwarning: \u001b[m\u001b[Kvariable ‘\u001b[01m\u001b[K_\u001b[m\u001b[K’ set but not used [\u001b[01;35m\u001b[K-Wunused-but-set-variable\u001b[m\u001b[K]\n",
            "     int \u001b[01;35m\u001b[K_\u001b[m\u001b[K;\n",
            "         \u001b[01;35m\u001b[K^\u001b[m\u001b[K\n",
            "4\n",
            "1\n"
          ],
          "name": "stdout"
        }
      ]
    },
    {
      "cell_type": "code",
      "metadata": {
        "id": "ZFeotcepDzbA"
      },
      "source": [
        ""
      ],
      "execution_count": null,
      "outputs": []
    }
  ]
}