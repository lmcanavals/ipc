{
  "nbformat": 4,
  "nbformat_minor": 0,
  "metadata": {
    "colab": {
      "name": "ipc 20202 121 sparse table.ipynb",
      "provenance": [],
      "collapsed_sections": [],
      "include_colab_link": true
    },
    "kernelspec": {
      "name": "python3",
      "display_name": "Python 3"
    }
  },
  "cells": [
    {
      "cell_type": "markdown",
      "metadata": {
        "id": "view-in-github",
        "colab_type": "text"
      },
      "source": [
        "<a href=\"https://colab.research.google.com/github/pcsilcan/ipc/blob/20202/ipc_20202_121_sparse_table.ipynb\" target=\"_parent\"><img src=\"https://colab.research.google.com/assets/colab-badge.svg\" alt=\"Open In Colab\"/></a>"
      ]
    },
    {
      "cell_type": "code",
      "metadata": {
        "id": "jOJCrzLBpo02"
      },
      "source": [
        "MAX = 100\n",
        "Log2 = [0]*MAX\n",
        "\n",
        "def prelog2():\n",
        "  k = 0\n",
        "  for i in range(1, MAX):\n",
        "    k = k + (1 if (1 << (k+1) == i) else 0)\n",
        "    Log2[i] = k\n",
        "\n",
        "prelog2()\n",
        "\n",
        "Log2"
      ],
      "execution_count": null,
      "outputs": []
    },
    {
      "cell_type": "code",
      "metadata": {
        "id": "7jvmAExhqrzj",
        "outputId": "bc0101d2-ba0a-41e3-b7c8-e5566373f8b5",
        "colab": {
          "base_uri": "https://localhost:8080/"
        }
      },
      "source": [
        "n = 4\n",
        "print(n)\n",
        "print(\"{0:016b}\".format(n))"
      ],
      "execution_count": null,
      "outputs": [
        {
          "output_type": "stream",
          "text": [
            "4\n",
            "0000000000000100\n"
          ],
          "name": "stdout"
        }
      ]
    },
    {
      "cell_type": "code",
      "metadata": {
        "id": "8mWSoo4xrHlY",
        "outputId": "82fb3c0a-b179-4bcf-9ed9-cf5d88906e4e",
        "colab": {
          "base_uri": "https://localhost:8080/"
        }
      },
      "source": [
        "n = n << 2\n",
        "print(n)\n",
        "print(\"{0:016b}\".format(n))"
      ],
      "execution_count": null,
      "outputs": [
        {
          "output_type": "stream",
          "text": [
            "16\n",
            "0000000000010000\n"
          ],
          "name": "stdout"
        }
      ]
    },
    {
      "cell_type": "code",
      "metadata": {
        "id": "nk6KZ9vzrTRm",
        "outputId": "2a9259d5-823e-403b-99c7-dd8010cddd9c",
        "colab": {
          "base_uri": "https://localhost:8080/"
        }
      },
      "source": [
        "import numpy as np\n",
        "N = 16\n",
        "v = [12, 1, 5, 14, 7, 2, 4, 45, 4, 2, 34, 34, 23, 4, 5, 4]\n",
        "ULTIMO_NIVEL = Log2[N] + 1\n",
        "M = np.zeros((N, ULTIMO_NIVEL))\n",
        "for i in range(N):\n",
        "  M[i][0] = v[i]\n",
        "for k in range(ULTIMO_NIVEL):\n",
        "  LARGO = 1 << k\n",
        "  for i in range(N - 2 * LARGO + 1):\n",
        "    M[i][k+1] = min(M[i][k], M[i+LARGO][k])\n",
        "\n",
        "M"
      ],
      "execution_count": null,
      "outputs": [
        {
          "output_type": "execute_result",
          "data": {
            "text/plain": [
              "array([[12.,  1.,  1.,  1.,  1.],\n",
              "       [ 1.,  1.,  1.,  1.,  0.],\n",
              "       [ 5.,  5.,  2.,  2.,  0.],\n",
              "       [14.,  7.,  2.,  2.,  0.],\n",
              "       [ 7.,  2.,  2.,  2.,  0.],\n",
              "       [ 2.,  2.,  2.,  2.,  0.],\n",
              "       [ 4.,  4.,  2.,  2.,  0.],\n",
              "       [45.,  4.,  2.,  2.,  0.],\n",
              "       [ 4.,  2.,  2.,  2.,  0.],\n",
              "       [ 2.,  2.,  2.,  0.,  0.],\n",
              "       [34., 34.,  4.,  0.,  0.],\n",
              "       [34., 23.,  4.,  0.,  0.],\n",
              "       [23.,  4.,  4.,  0.,  0.],\n",
              "       [ 4.,  4.,  0.,  0.,  0.],\n",
              "       [ 5.,  4.,  0.,  0.,  0.],\n",
              "       [ 4.,  0.,  0.,  0.,  0.]])"
            ]
          },
          "metadata": {
            "tags": []
          },
          "execution_count": 25
        }
      ]
    },
    {
      "cell_type": "code",
      "metadata": {
        "id": "mcHHGKSywluW"
      },
      "source": [
        ""
      ],
      "execution_count": null,
      "outputs": []
    }
  ]
}