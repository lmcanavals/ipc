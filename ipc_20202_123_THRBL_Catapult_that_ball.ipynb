{
  "nbformat": 4,
  "nbformat_minor": 0,
  "metadata": {
    "colab": {
      "name": "ipc 20202 123 THRBL - Catapult that ball.ipynb",
      "provenance": [],
      "authorship_tag": "ABX9TyMoc8mZl/Dm2eAjlIlXZqCh",
      "include_colab_link": true
    },
    "kernelspec": {
      "name": "python3",
      "display_name": "Python 3"
    }
  },
  "cells": [
    {
      "cell_type": "markdown",
      "metadata": {
        "id": "view-in-github",
        "colab_type": "text"
      },
      "source": [
        "<a href=\"https://colab.research.google.com/github/pcsilcan/ipc/blob/20202/ipc_20202_123_THRBL_Catapult_that_ball.ipynb\" target=\"_parent\"><img src=\"https://colab.research.google.com/assets/colab-badge.svg\" alt=\"Open In Colab\"/></a>"
      ]
    },
    {
      "cell_type": "code",
      "metadata": {
        "id": "AKPwGcJWJaWj",
        "outputId": "176ba56f-3bff-4e01-ca32-e0623cf626e7",
        "colab": {
          "base_uri": "https://localhost:8080/"
        }
      },
      "source": [
        "%%writefile 1.in\n",
        "7 3\n",
        "2 3 5 4 2 1 6\n",
        "3 5\n",
        "2 5\n",
        "4 6"
      ],
      "execution_count": 2,
      "outputs": [
        {
          "output_type": "stream",
          "text": [
            "Writing 1.in\n"
          ],
          "name": "stdout"
        }
      ]
    },
    {
      "cell_type": "code",
      "metadata": {
        "id": "AyXWVbVlJboC",
        "outputId": "947afa4e-d102-4460-fc54-d7a5aebed2bb",
        "colab": {
          "base_uri": "https://localhost:8080/"
        }
      },
      "source": [
        "%%writefile 1.cpp\n",
        "#include <bits/stdc++.h>\n",
        "\n",
        "using namespace std;\n",
        "\n",
        "const int MAX = 1e5;\n",
        "\n",
        "int N, Q;\n",
        "int v[MAX] = {};\n",
        "int M[MAX][20] = {};\n",
        "int Log2[MAX] = {0};\n",
        "\n",
        "void prelog2() {\n",
        "    for (int i = 1, k = 0; i < MAX; ++i) {\n",
        "        Log2[i] = k = k + (1 << (k+1) == i);\n",
        "    }\n",
        "}\n",
        "\n",
        "void solve() {\n",
        "    const int ULTIMO_NIVEL = Log2[N] + 1;\n",
        "    for (int i = 0; i < N; ++i) M[i][0] = v[i];\n",
        "    for (int k = 0; k < ULTIMO_NIVEL; ++k) {\n",
        "        const int LARGO = 1 << k;\n",
        "        for (int i = 0; i <= N - 2 * LARGO; ++i) {\n",
        "            M[i][k+1] = max(M[i][k], M[i+LARGO][k]);\n",
        "        }\n",
        "    }\n",
        "}\n",
        "\n",
        "int rmq(int i, int j) {\n",
        "    int k = Log2[j-i+1];\n",
        "    return max(M[i][k], M[j-(1<<k)+1][k]);\n",
        "}\n",
        "\n",
        "int main() {\n",
        "    int _;\n",
        "    _ = scanf(\"%d %d\", &N, &Q);\n",
        "    for (int i = 0; i < N; ++i) _ = scanf(\"%d\", &(v[i]));\n",
        "    prelog2();\n",
        "    solve();\n",
        "    int i, j, p;\n",
        "    int c = 0;\n",
        "    while (Q--) {\n",
        "        _ = scanf(\"%d %d\", &i, &j);\n",
        "        p = rmq(i, j);\n",
        "        c += p == v[i];\n",
        "    }\n",
        "    printf(\"%d\\n\", c);\n",
        "    return 0;\n",
        "}\n"
      ],
      "execution_count": 6,
      "outputs": [
        {
          "output_type": "stream",
          "text": [
            "Overwriting 1.cpp\n"
          ],
          "name": "stdout"
        }
      ]
    },
    {
      "cell_type": "code",
      "metadata": {
        "id": "U6yH7MvtKLnM",
        "outputId": "baced57e-2452-444c-ba36-10a94af34116",
        "colab": {
          "base_uri": "https://localhost:8080/"
        }
      },
      "source": [
        "!g++ -std=c++14 -O2 -Wall 1.cpp && ./a.out < 1.in"
      ],
      "execution_count": 7,
      "outputs": [
        {
          "output_type": "stream",
          "text": [
            "\u001b[01m\u001b[K1.cpp:\u001b[m\u001b[K In function ‘\u001b[01m\u001b[Kint main()\u001b[m\u001b[K’:\n",
            "\u001b[01m\u001b[K1.cpp:35:9:\u001b[m\u001b[K \u001b[01;35m\u001b[Kwarning: \u001b[m\u001b[Kvariable ‘\u001b[01m\u001b[K_\u001b[m\u001b[K’ set but not used [\u001b[01;35m\u001b[K-Wunused-but-set-variable\u001b[m\u001b[K]\n",
            "     int \u001b[01;35m\u001b[K_\u001b[m\u001b[K;\n",
            "         \u001b[01;35m\u001b[K^\u001b[m\u001b[K\n",
            "2\n"
          ],
          "name": "stdout"
        }
      ]
    },
    {
      "cell_type": "code",
      "metadata": {
        "id": "k08HTpq4KRa7"
      },
      "source": [
        ""
      ],
      "execution_count": null,
      "outputs": []
    }
  ]
}