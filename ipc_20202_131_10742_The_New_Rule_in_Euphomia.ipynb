{
  "nbformat": 4,
  "nbformat_minor": 0,
  "metadata": {
    "colab": {
      "name": "ipc 20202 131 10742 - The New Rule in Euphomia.ipynb",
      "provenance": [],
      "authorship_tag": "ABX9TyOS544drU/Iw6AukqLVrQWe",
      "include_colab_link": true
    },
    "kernelspec": {
      "name": "python3",
      "display_name": "Python 3"
    }
  },
  "cells": [
    {
      "cell_type": "markdown",
      "metadata": {
        "id": "view-in-github",
        "colab_type": "text"
      },
      "source": [
        "<a href=\"https://colab.research.google.com/github/pcsilcan/ipc/blob/20202/ipc_20202_131_10742_The_New_Rule_in_Euphomia.ipynb\" target=\"_parent\"><img src=\"https://colab.research.google.com/assets/colab-badge.svg\" alt=\"Open In Colab\"/></a>"
      ]
    },
    {
      "cell_type": "markdown",
      "metadata": {
        "id": "pumK2a7lDfKo"
      },
      "source": [
        "# [10742 - The New Rule in Euphomia](https://onlinejudge.org/index.php?option=com_onlinejudge&Itemid=8&category=661&page=show_problem&problem=1683)"
      ]
    },
    {
      "cell_type": "code",
      "metadata": {
        "id": "VPE00Sj3PG2w",
        "outputId": "8937cffd-0e7a-4ebb-d5a7-b16c78da42c3",
        "colab": {
          "base_uri": "https://localhost:8080/"
        }
      },
      "source": [
        "%%writefile 1.in\n",
        "10\n",
        "996542\n",
        "24\n",
        "129\n",
        "0"
      ],
      "execution_count": 39,
      "outputs": [
        {
          "output_type": "stream",
          "text": [
            "Writing 1.in\n"
          ],
          "name": "stdout"
        }
      ]
    },
    {
      "cell_type": "code",
      "metadata": {
        "id": "BzwnovOmDGTW",
        "outputId": "47bdf9f7-6ed6-4f37-ddb6-00266bc36bbf",
        "colab": {
          "base_uri": "https://localhost:8080/"
        }
      },
      "source": [
        "%%writefile 1.cpp\n",
        "#include <bits/stdc++.h>\n",
        "\n",
        "using namespace std;\n",
        "\n",
        "#define N 1000000\n",
        "#define M 78498\n",
        "\n",
        "static inline void IGUR(int x) {}\n",
        "\n",
        "bool sieve[N] = {false};\n",
        "vector<int> primes(M);\n",
        "\n",
        "using ll=long long;\n",
        "\n",
        "ll solve(int n) {\n",
        "    ll resp = 0;\n",
        "    for (int i = 0; primes[i] < n; ++i) {\n",
        "        if (primes[i] < n/2) --resp;\n",
        "        resp += upper_bound(primes.begin(), primes.end(), n-primes[i])\n",
        "                - primes.begin();\n",
        "    }\n",
        "    return resp / 2;\n",
        "}\n",
        "\n",
        "int main() {\n",
        "    int k = 0;\n",
        "\n",
        "    for (int i = 2; i < N; ++i) {\n",
        "        if (!sieve[i]) {\n",
        "            primes[k++] = i;\n",
        "            for (int j = i*2; j < N; j += i) {\n",
        "                sieve[j] = true;\n",
        "            }\n",
        "        }\n",
        "    }\n",
        "\n",
        "    int n;\n",
        "    for (int i = 1;; ++i) {\n",
        "        IGUR(scanf(\"%d\", &n));\n",
        "        if (n > 0) {\n",
        "            printf(\"Case %d: %lld\\n\", i, solve(n));\n",
        "        } else break;\n",
        "    }\n",
        "\n",
        "    return 0;\n",
        "}"
      ],
      "execution_count": 75,
      "outputs": [
        {
          "output_type": "stream",
          "text": [
            "Overwriting 1.cpp\n"
          ],
          "name": "stdout"
        }
      ]
    },
    {
      "cell_type": "code",
      "metadata": {
        "id": "8N5QGrz_GjK7",
        "outputId": "cd8f1603-e894-4b0c-ee11-f64d83adf29c",
        "colab": {
          "base_uri": "https://localhost:8080/"
        }
      },
      "source": [
        "!g++ -std=c++14 -O2 -Wall 1.cpp && ./a.out < 1.in"
      ],
      "execution_count": 76,
      "outputs": [
        {
          "output_type": "stream",
          "text": [
            "Case 1: 5\n",
            "Case 2: 1661327749\n",
            "Case 3: 22\n",
            "Case 4: 296\n"
          ],
          "name": "stdout"
        }
      ]
    },
    {
      "cell_type": "code",
      "metadata": {
        "id": "ypHnhvUvGpH5",
        "outputId": "94023b9c-0fc8-4be3-a2ba-6a6b0e854523",
        "colab": {
          "base_uri": "https://localhost:8080/"
        }
      },
      "source": [
        "%timeit !./a.out < 1.in 1>/dev/null"
      ],
      "execution_count": 58,
      "outputs": [
        {
          "output_type": "stream",
          "text": [
            "10 loops, best of 3: 113 ms per loop\n"
          ],
          "name": "stdout"
        }
      ]
    },
    {
      "cell_type": "code",
      "metadata": {
        "id": "Db6R-_qkQoEJ"
      },
      "source": [
        ""
      ],
      "execution_count": null,
      "outputs": []
    }
  ]
}