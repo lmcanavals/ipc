{
  "nbformat": 4,
  "nbformat_minor": 0,
  "metadata": {
    "colab": {
      "name": "ipc 20202 131 10742 - The New Rule in Euphomia.ipynb",
      "provenance": [],
      "authorship_tag": "ABX9TyMkttO+G+lxXX8V0+l9av3Y",
      "include_colab_link": true
    },
    "kernelspec": {
      "name": "python3",
      "display_name": "Python 3"
    }
  },
  "cells": [
    {
      "cell_type": "markdown",
      "metadata": {
        "id": "view-in-github",
        "colab_type": "text"
      },
      "source": [
        "<a href=\"https://colab.research.google.com/github/pcsilcan/ipc/blob/20202/ipc_20202_131_10742_The_New_Rule_in_Euphomia.ipynb\" target=\"_parent\"><img src=\"https://colab.research.google.com/assets/colab-badge.svg\" alt=\"Open In Colab\"/></a>"
      ]
    },
    {
      "cell_type": "markdown",
      "metadata": {
        "id": "pumK2a7lDfKo"
      },
      "source": [
        "# [10742 - The New Rule in Euphomia](https://onlinejudge.org/index.php?option=com_onlinejudge&Itemid=8&category=661&page=show_problem&problem=1683)"
      ]
    },
    {
      "cell_type": "code",
      "metadata": {
        "id": "VPE00Sj3PG2w",
        "outputId": "8937cffd-0e7a-4ebb-d5a7-b16c78da42c3",
        "colab": {
          "base_uri": "https://localhost:8080/"
        }
      },
      "source": [
        "%%writefile 1.in\n",
        "10\n",
        "996542\n",
        "24\n",
        "129\n",
        "0"
      ],
      "execution_count": 39,
      "outputs": [
        {
          "output_type": "stream",
          "text": [
            "Writing 1.in\n"
          ],
          "name": "stdout"
        }
      ]
    },
    {
      "cell_type": "code",
      "metadata": {
        "id": "BzwnovOmDGTW",
        "outputId": "ad01bc68-e692-4535-822e-44871fed8611",
        "colab": {
          "base_uri": "https://localhost:8080/"
        }
      },
      "source": [
        "%%writefile 1.cpp\n",
        "#include <bits/stdc++.h>\n",
        "\n",
        "using namespace std;\n",
        "\n",
        "#define N 1000000\n",
        "#define M 78498\n",
        "\n",
        "bool sieve[N] = {false};\n",
        "vector<int> primes(M);\n",
        "\n",
        "using ll=long long;\n",
        "\n",
        "ll solve(int n) {\n",
        "    ll resp = 0;\n",
        "    for (auto p : primes) {\n",
        "        if (p < n) {\n",
        "            if (p < n/2) --resp;\n",
        "            resp += upper_bound(primes.begin(), primes.end(), n-p) - primes.begin();\n",
        "        }\n",
        "    }\n",
        "    return resp / 2;\n",
        "}\n",
        "\n",
        "int main() {\n",
        "    int k = 0;\n",
        "\n",
        "    for (int i = 2; i < N; ++i) {\n",
        "        if (!sieve[i]) {\n",
        "            primes[k++] = i;\n",
        "            for (int j = i*2; j < N; j += i) {\n",
        "                sieve[j] = true;\n",
        "            }\n",
        "        }\n",
        "    }\n",
        "\n",
        "    int n;\n",
        "    for (;;) {\n",
        "        (scanf(\"%d\", &n));\n",
        "        if (n > 0) {\n",
        "            //solve(n);\n",
        "            printf(\"%lld\\n\", solve(n));\n",
        "        } else break;\n",
        "    }\n",
        "\n",
        "    return 0;\n",
        "}"
      ],
      "execution_count": 55,
      "outputs": [
        {
          "output_type": "stream",
          "text": [
            "Overwriting 1.cpp\n"
          ],
          "name": "stdout"
        }
      ]
    },
    {
      "cell_type": "code",
      "metadata": {
        "id": "8N5QGrz_GjK7",
        "outputId": "8310544c-e19a-40fc-e7ec-ec01d3239f38",
        "colab": {
          "base_uri": "https://localhost:8080/"
        }
      },
      "source": [
        "!g++ -std=c++14 -O2 -Wall 1.cpp && ./a.out < 1.in"
      ],
      "execution_count": 56,
      "outputs": [
        {
          "output_type": "stream",
          "text": [
            "\u001b[01m\u001b[K1.cpp:\u001b[m\u001b[K In function ‘\u001b[01m\u001b[Kint main()\u001b[m\u001b[K’:\n",
            "\u001b[01m\u001b[K1.cpp:38:15:\u001b[m\u001b[K \u001b[01;35m\u001b[Kwarning: \u001b[m\u001b[Kignoring return value of ‘\u001b[01m\u001b[Kint scanf(const char*, ...)\u001b[m\u001b[K’, declared with attribute warn_unused_result [\u001b[01;35m\u001b[K-Wunused-result\u001b[m\u001b[K]\n",
            "         \u001b[01;35m\u001b[K(scanf(\"%d\", &n))\u001b[m\u001b[K;\n",
            "         \u001b[01;35m\u001b[K~~~~~~^~~~~~~~~~~\u001b[m\u001b[K\n",
            "5\n",
            "1661327749\n",
            "22\n",
            "296\n"
          ],
          "name": "stdout"
        }
      ]
    },
    {
      "cell_type": "code",
      "metadata": {
        "id": "ypHnhvUvGpH5",
        "outputId": "94023b9c-0fc8-4be3-a2ba-6a6b0e854523",
        "colab": {
          "base_uri": "https://localhost:8080/"
        }
      },
      "source": [
        "%timeit !./a.out < 1.in 1>/dev/null"
      ],
      "execution_count": 58,
      "outputs": [
        {
          "output_type": "stream",
          "text": [
            "10 loops, best of 3: 113 ms per loop\n"
          ],
          "name": "stdout"
        }
      ]
    },
    {
      "cell_type": "code",
      "metadata": {
        "id": "Db6R-_qkQoEJ"
      },
      "source": [
        ""
      ],
      "execution_count": null,
      "outputs": []
    }
  ]
}